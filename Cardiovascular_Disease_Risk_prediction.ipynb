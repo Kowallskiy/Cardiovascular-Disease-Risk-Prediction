{
 "cells": [
  {
   "cell_type": "markdown",
   "metadata": {},
   "source": [
    "# Cardiovascular Disease Risk Prediction"
   ]
  },
  {
   "cell_type": "code",
   "execution_count": 55,
   "metadata": {},
   "outputs": [],
   "source": [
    "import pandas as pd\n",
    "from sklearn.tree import DecisionTreeClassifier\n",
    "from sklearn.metrics import mean_absolute_error\n",
    "from sklearn.model_selection import train_test_split\n",
    "from sklearn.preprocessing import OneHotEncoder\n",
    "from sklearn.metrics import accuracy_score"
   ]
  },
  {
   "cell_type": "code",
   "execution_count": 56,
   "metadata": {},
   "outputs": [
    {
     "name": "stdout",
     "output_type": "stream",
     "text": [
      "  General_Health                  Checkup Exercise Heart_Disease Skin_Cancer  \\\n",
      "0           Poor  Within the past 2 years       No            No          No   \n",
      "1      Very Good     Within the past year       No           Yes          No   \n",
      "2      Very Good     Within the past year      Yes            No          No   \n",
      "3           Poor     Within the past year      Yes           Yes          No   \n",
      "4           Good     Within the past year       No            No          No   \n",
      "\n",
      "  Other_Cancer Depression Diabetes Arthritis     Sex Age_Category  \\\n",
      "0           No         No       No       Yes  Female        70-74   \n",
      "1           No         No      Yes        No  Female        70-74   \n",
      "2           No         No      Yes        No  Female        60-64   \n",
      "3           No         No      Yes        No    Male        75-79   \n",
      "4           No         No       No        No    Male          80+   \n",
      "\n",
      "   Height_(cm)  Weight_(kg)    BMI Smoking_History  Alcohol_Consumption  \\\n",
      "0        150.0        32.66  14.54             Yes                  0.0   \n",
      "1        165.0        77.11  28.29              No                  0.0   \n",
      "2        163.0        88.45  33.47              No                  4.0   \n",
      "3        180.0        93.44  28.73              No                  0.0   \n",
      "4        191.0        88.45  24.37             Yes                  0.0   \n",
      "\n",
      "   Fruit_Consumption  Green_Vegetables_Consumption  FriedPotato_Consumption  \n",
      "0               30.0                          16.0                     12.0  \n",
      "1               30.0                           0.0                      4.0  \n",
      "2               12.0                           3.0                     16.0  \n",
      "3               30.0                          30.0                      8.0  \n",
      "4                8.0                           4.0                      0.0  \n",
      "(308854, 19)\n"
     ]
    }
   ],
   "source": [
    "disease_data_filepath = \"CVD_cleaned.csv\"\n",
    "disease_data = pd.read_csv(disease_data_filepath)\n",
    "print(disease_data.head())\n",
    "print(disease_data.shape)"
   ]
  },
  {
   "cell_type": "code",
   "execution_count": 57,
   "metadata": {},
   "outputs": [],
   "source": [
    "disease_data.columns.isnull()\n",
    "y = disease_data.Heart_Disease\n",
    "disease_features = [\"Exercise\", \"Diabetes\", \"Arthritis\", \"Sex\", \"Age_Category\", \"BMI\", \"Smoking_History\",\n",
    "                    \"Alcohol_Consumption\", \"Fruit_Consumption\", \"Green_Vegetables_Consumption\", \"FriedPotato_Consumption\"]\n",
    "X = disease_data[disease_features]"
   ]
  },
  {
   "cell_type": "code",
   "execution_count": 58,
   "metadata": {},
   "outputs": [
    {
     "data": {
      "text/html": [
       "<div>\n",
       "<style scoped>\n",
       "    .dataframe tbody tr th:only-of-type {\n",
       "        vertical-align: middle;\n",
       "    }\n",
       "\n",
       "    .dataframe tbody tr th {\n",
       "        vertical-align: top;\n",
       "    }\n",
       "\n",
       "    .dataframe thead th {\n",
       "        text-align: right;\n",
       "    }\n",
       "</style>\n",
       "<table border=\"1\" class=\"dataframe\">\n",
       "  <thead>\n",
       "    <tr style=\"text-align: right;\">\n",
       "      <th></th>\n",
       "      <th>Exercise</th>\n",
       "      <th>Diabetes</th>\n",
       "      <th>Arthritis</th>\n",
       "      <th>Sex</th>\n",
       "      <th>Age_Category</th>\n",
       "      <th>BMI</th>\n",
       "      <th>Smoking_History</th>\n",
       "      <th>Alcohol_Consumption</th>\n",
       "      <th>Fruit_Consumption</th>\n",
       "      <th>Green_Vegetables_Consumption</th>\n",
       "      <th>FriedPotato_Consumption</th>\n",
       "    </tr>\n",
       "  </thead>\n",
       "  <tbody>\n",
       "    <tr>\n",
       "      <th>0</th>\n",
       "      <td>No</td>\n",
       "      <td>No</td>\n",
       "      <td>Yes</td>\n",
       "      <td>Female</td>\n",
       "      <td>70-74</td>\n",
       "      <td>14.54</td>\n",
       "      <td>Yes</td>\n",
       "      <td>0.0</td>\n",
       "      <td>30.0</td>\n",
       "      <td>16.0</td>\n",
       "      <td>12.0</td>\n",
       "    </tr>\n",
       "    <tr>\n",
       "      <th>1</th>\n",
       "      <td>No</td>\n",
       "      <td>Yes</td>\n",
       "      <td>No</td>\n",
       "      <td>Female</td>\n",
       "      <td>70-74</td>\n",
       "      <td>28.29</td>\n",
       "      <td>No</td>\n",
       "      <td>0.0</td>\n",
       "      <td>30.0</td>\n",
       "      <td>0.0</td>\n",
       "      <td>4.0</td>\n",
       "    </tr>\n",
       "    <tr>\n",
       "      <th>2</th>\n",
       "      <td>Yes</td>\n",
       "      <td>Yes</td>\n",
       "      <td>No</td>\n",
       "      <td>Female</td>\n",
       "      <td>60-64</td>\n",
       "      <td>33.47</td>\n",
       "      <td>No</td>\n",
       "      <td>4.0</td>\n",
       "      <td>12.0</td>\n",
       "      <td>3.0</td>\n",
       "      <td>16.0</td>\n",
       "    </tr>\n",
       "    <tr>\n",
       "      <th>3</th>\n",
       "      <td>Yes</td>\n",
       "      <td>Yes</td>\n",
       "      <td>No</td>\n",
       "      <td>Male</td>\n",
       "      <td>75-79</td>\n",
       "      <td>28.73</td>\n",
       "      <td>No</td>\n",
       "      <td>0.0</td>\n",
       "      <td>30.0</td>\n",
       "      <td>30.0</td>\n",
       "      <td>8.0</td>\n",
       "    </tr>\n",
       "    <tr>\n",
       "      <th>4</th>\n",
       "      <td>No</td>\n",
       "      <td>No</td>\n",
       "      <td>No</td>\n",
       "      <td>Male</td>\n",
       "      <td>80+</td>\n",
       "      <td>24.37</td>\n",
       "      <td>Yes</td>\n",
       "      <td>0.0</td>\n",
       "      <td>8.0</td>\n",
       "      <td>4.0</td>\n",
       "      <td>0.0</td>\n",
       "    </tr>\n",
       "  </tbody>\n",
       "</table>\n",
       "</div>"
      ],
      "text/plain": [
       "  Exercise Diabetes Arthritis     Sex Age_Category    BMI Smoking_History  \\\n",
       "0       No       No       Yes  Female        70-74  14.54             Yes   \n",
       "1       No      Yes        No  Female        70-74  28.29              No   \n",
       "2      Yes      Yes        No  Female        60-64  33.47              No   \n",
       "3      Yes      Yes        No    Male        75-79  28.73              No   \n",
       "4       No       No        No    Male          80+  24.37             Yes   \n",
       "\n",
       "   Alcohol_Consumption  Fruit_Consumption  Green_Vegetables_Consumption  \\\n",
       "0                  0.0               30.0                          16.0   \n",
       "1                  0.0               30.0                           0.0   \n",
       "2                  4.0               12.0                           3.0   \n",
       "3                  0.0               30.0                          30.0   \n",
       "4                  0.0                8.0                           4.0   \n",
       "\n",
       "   FriedPotato_Consumption  \n",
       "0                     12.0  \n",
       "1                      4.0  \n",
       "2                     16.0  \n",
       "3                      8.0  \n",
       "4                      0.0  "
      ]
     },
     "execution_count": 58,
     "metadata": {},
     "output_type": "execute_result"
    }
   ],
   "source": [
    "X.describe()\n",
    "X.head()"
   ]
  },
  {
   "cell_type": "code",
   "execution_count": 59,
   "metadata": {},
   "outputs": [],
   "source": [
    "X_train, X_val, y_train, y_val = train_test_split(X, y, random_state=0)\n",
    "s = (X_train.dtypes=='object')\n",
    "object_cols = list(s[s].index)\n",
    "drop_X_train = X_train.select_dtypes(exclude=['object'])\n",
    "drop_X_valid = X_val.select_dtypes(exclude=['object'])\n"
   ]
  },
  {
   "cell_type": "code",
   "execution_count": 60,
   "metadata": {},
   "outputs": [],
   "source": [
    "OH_encoder = OneHotEncoder(handle_unknown='ignore', sparse_output=False)\n",
    "OH_cols_train = pd.DataFrame(OH_encoder.fit_transform(X_train[object_cols]))\n",
    "OH_cols_valid = pd.DataFrame(OH_encoder.transform(X_val[object_cols]))\n",
    "# OH encoding removed index; put it back\n",
    "OH_cols_train.index = X_train.index\n",
    "OH_cols_valid.index = X_val.index\n",
    "# Remove categorical columns and replace them with one hot encoding\n",
    "num_X_train = X_train.drop(object_cols, axis=1)\n",
    "num_X_valid = X_val.drop(object_cols, axis=1)\n",
    "\n",
    "# Add one hot encoded columns to numerical\n",
    "OH_X_train = pd.concat([num_X_train, OH_cols_train], axis=1)\n",
    "OH_X_valid = pd.concat([num_X_valid, OH_cols_valid], axis=1)\n",
    "\n",
    "# Make sure all columns have dtype 'str'ArithmeticError\n",
    "OH_X_train.columns = OH_X_train.columns.astype('str')\n",
    "OH_X_valid.columns = OH_X_valid.columns.astype('str')"
   ]
  },
  {
   "cell_type": "code",
   "execution_count": 61,
   "metadata": {},
   "outputs": [
    {
     "name": "stdout",
     "output_type": "stream",
     "text": [
      "Accuracy:  0.86\n"
     ]
    }
   ],
   "source": [
    "disease_model = DecisionTreeClassifier(random_state=1)\n",
    "disease_model.fit(OH_X_train, y_train)\n",
    "y_pred = disease_model.predict(OH_X_valid)\n",
    "accuracy = accuracy_score(y_val, y_pred)\n",
    "print(f\"Accuracy: {accuracy: .2f}\")"
   ]
  }
 ],
 "metadata": {
  "kernelspec": {
   "display_name": "Python 3",
   "language": "python",
   "name": "python3"
  },
  "language_info": {
   "codemirror_mode": {
    "name": "ipython",
    "version": 3
   },
   "file_extension": ".py",
   "mimetype": "text/x-python",
   "name": "python",
   "nbconvert_exporter": "python",
   "pygments_lexer": "ipython3",
   "version": "3.11.4"
  },
  "orig_nbformat": 4
 },
 "nbformat": 4,
 "nbformat_minor": 2
}
