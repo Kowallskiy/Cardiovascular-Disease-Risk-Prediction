{
 "cells": [
  {
   "cell_type": "markdown",
   "metadata": {},
   "source": [
    "# Data Analysis"
   ]
  },
  {
   "cell_type": "code",
   "execution_count": 1,
   "metadata": {},
   "outputs": [],
   "source": [
    "import seaborn as sns\n",
    "import pandas as pd\n",
    "pd.plotting.register_matplotlib_converters()\n",
    "import matplotlib.pyplot as plt"
   ]
  },
  {
   "cell_type": "code",
   "execution_count": 2,
   "metadata": {},
   "outputs": [],
   "source": [
    "disease_data_filepath = (\"CVD_cleaned.csv\")\n",
    "disease_data = pd.read_csv(disease_data_filepath)"
   ]
  },
  {
   "cell_type": "code",
   "execution_count": 8,
   "metadata": {},
   "outputs": [
    {
     "name": "stdout",
     "output_type": "stream",
     "text": [
      "(308854, 19)\n",
      "General_Health                  False\n",
      "Checkup                         False\n",
      "Exercise                        False\n",
      "Heart_Disease                   False\n",
      "Skin_Cancer                     False\n",
      "Other_Cancer                    False\n",
      "Depression                      False\n",
      "Diabetes                        False\n",
      "Arthritis                       False\n",
      "Sex                             False\n",
      "Age_Category                    False\n",
      "Height_(cm)                     False\n",
      "Weight_(kg)                     False\n",
      "BMI                             False\n",
      "Smoking_History                 False\n",
      "Alcohol_Consumption             False\n",
      "Fruit_Consumption               False\n",
      "Green_Vegetables_Consumption    False\n",
      "FriedPotato_Consumption         False\n",
      "dtype: bool\n",
      "General_Health                   object\n",
      "Checkup                          object\n",
      "Exercise                         object\n",
      "Heart_Disease                    object\n",
      "Skin_Cancer                      object\n",
      "Other_Cancer                     object\n",
      "Depression                       object\n",
      "Diabetes                         object\n",
      "Arthritis                        object\n",
      "Sex                              object\n",
      "Age_Category                     object\n",
      "Height_(cm)                     float64\n",
      "Weight_(kg)                     float64\n",
      "BMI                             float64\n",
      "Smoking_History                  object\n",
      "Alcohol_Consumption             float64\n",
      "Fruit_Consumption               float64\n",
      "Green_Vegetables_Consumption    float64\n",
      "FriedPotato_Consumption         float64\n",
      "dtype: object\n"
     ]
    }
   ],
   "source": [
    "print(disease_data.shape)\n",
    "print(disease_data.isnull().any())\n",
    "print(disease_data.dtypes)"
   ]
  },
  {
   "cell_type": "code",
   "execution_count": 9,
   "metadata": {},
   "outputs": [
    {
     "name": "stdout",
     "output_type": "stream",
     "text": [
      "Index(['General_Health', 'Checkup', 'Exercise', 'Heart_Disease', 'Skin_Cancer',\n",
      "       'Other_Cancer', 'Depression', 'Diabetes', 'Arthritis', 'Sex',\n",
      "       'Age_Category', 'Height_(cm)', 'Weight_(kg)', 'BMI', 'Smoking_History',\n",
      "       'Alcohol_Consumption', 'Fruit_Consumption',\n",
      "       'Green_Vegetables_Consumption', 'FriedPotato_Consumption'],\n",
      "      dtype='object')\n"
     ]
    }
   ],
   "source": [
    "print(disease_data.columns)"
   ]
  },
  {
   "cell_type": "markdown",
   "metadata": {},
   "source": [
    "Let us see how some columns directly affect heart disease"
   ]
  },
  {
   "cell_type": "code",
   "execution_count": null,
   "metadata": {},
   "outputs": [],
   "source": [
    "sns.lineplot()"
   ]
  }
 ],
 "metadata": {
  "kernelspec": {
   "display_name": "Python 3",
   "language": "python",
   "name": "python3"
  },
  "language_info": {
   "codemirror_mode": {
    "name": "ipython",
    "version": 3
   },
   "file_extension": ".py",
   "mimetype": "text/x-python",
   "name": "python",
   "nbconvert_exporter": "python",
   "pygments_lexer": "ipython3",
   "version": "3.11.4"
  },
  "orig_nbformat": 4
 },
 "nbformat": 4,
 "nbformat_minor": 2
}
